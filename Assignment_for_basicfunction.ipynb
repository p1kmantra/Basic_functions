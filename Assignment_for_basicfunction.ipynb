{
 "cells": [
  {
   "cell_type": "markdown",
   "id": "f997463b-acaa-4746-8470-685cd287407f",
   "metadata": {},
   "source": [
    "## Q.1. What is the difference between a function and a method in Python?"
   ]
  },
  {
   "cell_type": "markdown",
   "id": "b0347153-6e11-422d-b30b-39f6e2169375",
   "metadata": {},
   "source": [
    "#### Ans.In Python, both functions and methods are blocks of code designed to perform specific tasks, but they different from each other."
   ]
  },
  {
   "cell_type": "markdown",
   "id": "2654c2b7-6421-4355-aa37-7f8027a93d50",
   "metadata": {},
   "source": [
    "### (a).Function\n",
    "#### A function is a reusable block of code that performs a specific task and is defined using the def keyword. Functions can be called independently of classes."
   ]
  },
  {
   "cell_type": "markdown",
   "id": "8ecdf328-a992-45c9-9a1d-9ea19d169cc9",
   "metadata": {},
   "source": [
    "#### e.g."
   ]
  },
  {
   "cell_type": "code",
   "execution_count": 2,
   "id": "54233e68-a455-4ea4-95c4-1c476cfd2657",
   "metadata": {},
   "outputs": [
    {
     "name": "stdout",
     "output_type": "stream",
     "text": [
      "Hello, Anurag!\n"
     ]
    }
   ],
   "source": [
    "def greet(name):\n",
    "    return f\"Hello, {name}!\"\n",
    "\n",
    "# Calling the function\n",
    "print(greet(\"Anurag\"))"
   ]
  },
  {
   "cell_type": "markdown",
   "id": "e2a3413c-5537-478b-bb58-e31735758f77",
   "metadata": {},
   "source": [
    "#### In this example, greet is a function that takes one parameter name and returns a greeting message."
   ]
  },
  {
   "cell_type": "markdown",
   "id": "d4d62848-8427-47f8-86eb-0d27846d57e7",
   "metadata": {},
   "source": [
    "### (b).Method\n",
    "#### A method is similar to a function but is associated with an object. Methods are defined within a class and are called on instances of that class. They operate on the data contained in the class and have access to instance attributes."
   ]
  },
  {
   "cell_type": "code",
   "execution_count": 3,
   "id": "16b05e38-ab9f-4ca8-929c-ebab6891c2e5",
   "metadata": {},
   "outputs": [
    {
     "name": "stdout",
     "output_type": "stream",
     "text": [
      "Hello, Anurag!\n"
     ]
    }
   ],
   "source": [
    "class Person:\n",
    "    def __init__(self, name):\n",
    "        self.name = name\n",
    "    \n",
    "    def greet(self):\n",
    "        return f\"Hello, {self.name}!\"\n",
    "\n",
    "# Creating an instance of the class\n",
    "person = Person(\"Anurag\")\n",
    "\n",
    "# Calling the method\n",
    "print(person.greet())"
   ]
  },
  {
   "cell_type": "markdown",
   "id": "8c180ece-4453-4bac-8fdb-9ac8b48c9fe4",
   "metadata": {},
   "source": [
    "#### In this example, greet is a method defined within the Person class. It uses the instance attribute self.name to return a greeting message."
   ]
  },
  {
   "cell_type": "markdown",
   "id": "d612bc58-8e81-4d13-ba19-dd355745f71e",
   "metadata": {},
   "source": [
    "#### Function defines outside of classes and can be called independently.\n",
    "#### while method defines inside a class and is called on instances of the class. It operates on instance data."
   ]
  },
  {
   "cell_type": "code",
   "execution_count": null,
   "id": "0de595f4-5dfa-488c-97a4-9c0884a59ad3",
   "metadata": {},
   "outputs": [],
   "source": []
  },
  {
   "cell_type": "markdown",
   "id": "c8aeef3a-1acb-4dda-a5a1-01f5e3b90b8d",
   "metadata": {},
   "source": [
    "## Q.2. Explain the concept of function arguments and parameters in Python."
   ]
  },
  {
   "cell_type": "markdown",
   "id": "0eae003c-0701-45e3-ac27-75f5d30f6df8",
   "metadata": {},
   "source": [
    "#### Ans.In Python, function arguments and parameters are crucial concepts that help us pass information to functions and methods."
   ]
  },
  {
   "cell_type": "markdown",
   "id": "20105e86-fd16-4578-bb94-212c2443b003",
   "metadata": {},
   "source": [
    "### Parameters\n",
    "#### Parameters are variables listed in a function’s definition. They act as placeholders for the values we have to pass into the function."
   ]
  },
  {
   "cell_type": "markdown",
   "id": "f9c50764-8756-4dec-b424-6ac75b5c1800",
   "metadata": {},
   "source": [
    "#### e.g."
   ]
  },
  {
   "cell_type": "code",
   "execution_count": 4,
   "id": "aeb14a79-41c4-4ec1-be71-d4768e4e3f4c",
   "metadata": {},
   "outputs": [],
   "source": [
    "def add(a, b):  # 'a' and 'b' are parameters\n",
    "    return a + b"
   ]
  },
  {
   "cell_type": "markdown",
   "id": "052a08ef-f91e-418c-bec7-8aa6fe18ec3b",
   "metadata": {},
   "source": [
    "#### In this example, a and b are parameters of the add function. They specify that the function expects two inputs when it's called."
   ]
  },
  {
   "cell_type": "markdown",
   "id": "dab00b6d-7733-43bf-a49a-1c665d70774f",
   "metadata": {},
   "source": [
    "### Arguments\n",
    "#### Arguments are the actual values or data you pass to a function when you call it. They replace the parameters in the function's definition."
   ]
  },
  {
   "cell_type": "markdown",
   "id": "b72f310a-3c5a-41dc-bf91-3e25943cc927",
   "metadata": {},
   "source": [
    "#### e.g."
   ]
  },
  {
   "cell_type": "code",
   "execution_count": 5,
   "id": "4c67247b-a7b1-496f-aba7-9932aeb52ee6",
   "metadata": {},
   "outputs": [
    {
     "name": "stdout",
     "output_type": "stream",
     "text": [
      "10\n"
     ]
    }
   ],
   "source": [
    "result = add(4, 6)  # '4' and '6' are arguments\n",
    "print(result)"
   ]
  },
  {
   "cell_type": "markdown",
   "id": "5b7bbd84-9fdd-4a57-9aa6-91e4ce75b06d",
   "metadata": {},
   "source": [
    "#### In this example, 4 and 6 are arguments passed to the add function. They replace the parameters a and b, respectively."
   ]
  },
  {
   "cell_type": "markdown",
   "id": "cf04267b-f4b7-4a8f-a2a2-f1ae40fa56df",
   "metadata": {},
   "source": [
    "#### Parameters Variables in the function definition that act as placeholders for the values.\n",
    "#### while Arguments Actual values passed to the function when it is called.\n",
    "\n",
    "#### By understanding both parameters and arguments, we can effectively write and use functions to perform operations with various inputs."
   ]
  },
  {
   "cell_type": "code",
   "execution_count": null,
   "id": "87714c42-c5a7-4642-96e6-3ee4a7ca6703",
   "metadata": {},
   "outputs": [],
   "source": []
  },
  {
   "cell_type": "markdown",
   "id": "7835b978-f030-44a7-ad0b-9ad8f44286cb",
   "metadata": {},
   "source": [
    "## Q.3.What are the different ways to define and call a function in Python?\n"
   ]
  },
  {
   "cell_type": "markdown",
   "id": "c8c3e54f-d70d-4630-8aaa-aba83d1872a4",
   "metadata": {},
   "source": [
    "#### Ans.In Python, we can define and call functions in various ways. Here are some common methods:\n",
    "\n",
    "#### (a). Standard Function Definition and Call\n",
    "\n",
    "#### Definition:\n"
   ]
  },
  {
   "cell_type": "code",
   "execution_count": null,
   "id": "010a80c6-4230-4d85-8c9a-d47ecb1ba074",
   "metadata": {},
   "outputs": [],
   "source": [
    "def greet(name):\n",
    "    return f\"Hello, {name}!\""
   ]
  },
  {
   "cell_type": "markdown",
   "id": "7b16c2b6-e67f-430f-a628-25084ce1ee68",
   "metadata": {},
   "source": [
    "#### Call"
   ]
  },
  {
   "cell_type": "code",
   "execution_count": null,
   "id": "f6b3a6f6-b76b-4909-bdc3-d454e2f29425",
   "metadata": {},
   "outputs": [],
   "source": [
    "print(greet(\"Avinash\"))"
   ]
  },
  {
   "cell_type": "markdown",
   "id": "dfd4e01d-155a-413a-bbdd-1b6f48db3d75",
   "metadata": {},
   "source": [
    "#### (b). Function with Default Parameters\n",
    "#### You can provide default values for parameters. If no argument is passed for that parameter, the default value is used.\n",
    "\n",
    "#### Definition:"
   ]
  },
  {
   "cell_type": "code",
   "execution_count": null,
   "id": "24d2e3a2-386b-4b53-a9cf-2fc1e8f60d78",
   "metadata": {},
   "outputs": [],
   "source": [
    "def greet(name=\"Student\"):\n",
    "    return f\"Hello, {name}!\""
   ]
  },
  {
   "cell_type": "markdown",
   "id": "59819c03-abfe-407d-a826-6c78d0c2cf24",
   "metadata": {},
   "source": [
    "#### Call:"
   ]
  },
  {
   "cell_type": "code",
   "execution_count": null,
   "id": "32f70883-640f-4e3e-af88-399c74653371",
   "metadata": {},
   "outputs": [],
   "source": [
    "print(greet())          # Uses default parameter\n",
    "print(greet(\"Pradip\")) "
   ]
  },
  {
   "cell_type": "markdown",
   "id": "7d33d585-95d4-48d2-ac61-8acb2bc9127c",
   "metadata": {},
   "source": [
    "#### (c). Function with Variable-Length Arguments\n",
    "#### You can define functions that accept a variable number of arguments using *args for positional arguments and **kwargs for keyword arguments."
   ]
  },
  {
   "cell_type": "markdown",
   "id": "47c04a60-99be-4f5d-ac88-4b2ae53a0795",
   "metadata": {},
   "source": [
    "#### Definition:"
   ]
  },
  {
   "cell_type": "code",
   "execution_count": null,
   "id": "0207b7b6-8c98-4ea0-9475-cb8b09773004",
   "metadata": {},
   "outputs": [],
   "source": [
    "def greet(*names):\n",
    "    return \", \".join(f\"Hello, {name}!\" for name in names)"
   ]
  },
  {
   "cell_type": "markdown",
   "id": "b604d746-0b31-48a8-9b57-985d366d518a",
   "metadata": {},
   "source": [
    "#### Call:"
   ]
  },
  {
   "cell_type": "code",
   "execution_count": null,
   "id": "7f9994c3-ad85-4a16-9558-e1ed46153481",
   "metadata": {},
   "outputs": [],
   "source": [
    "print(greet(\"Anurag\", \"Avinash\", \"Pradip\"))"
   ]
  },
  {
   "cell_type": "markdown",
   "id": "c4bd9c67-846d-41f2-9d30-b247d9e77045",
   "metadata": {},
   "source": [
    "#### (d). Lambda Functions\n",
    "#### Lambda functions are small anonymous functions defined with the lambda keyword. They are useful for short, throwaway functions."
   ]
  },
  {
   "cell_type": "markdown",
   "id": "eb8f5eba-94f0-40e6-b65c-edc7fe9dd6c0",
   "metadata": {},
   "source": [
    "#### Definition and Call:"
   ]
  },
  {
   "cell_type": "code",
   "execution_count": null,
   "id": "c93f5320-2439-4e0e-8022-f4f2fde778e5",
   "metadata": {},
   "outputs": [],
   "source": [
    "square = lambda x: x ** x\n",
    "print(square(5))"
   ]
  },
  {
   "cell_type": "markdown",
   "id": "c1cf77c1-230e-4744-8c76-a97fb6579c2d",
   "metadata": {},
   "source": [
    "#### Each of these methods offers different capabilities for defining and calling functions based on our needs."
   ]
  },
  {
   "cell_type": "code",
   "execution_count": null,
   "id": "772e0beb-e129-4488-8db8-3f10380551a5",
   "metadata": {},
   "outputs": [],
   "source": []
  },
  {
   "cell_type": "markdown",
   "id": "43f13e17-346e-4615-aa17-eb9d9d611ee9",
   "metadata": {},
   "source": [
    "## 4. What is the purpose of the 'return' statement in a Python function?"
   ]
  },
  {
   "cell_type": "markdown",
   "id": "6a2f8cc0-a76c-40aa-82ac-01bfd20aa2fd",
   "metadata": {},
   "source": [
    "#### Ans.The return statement in a Python function is used to exit the function and send a value back to the caller. This value can be of any data type, including numbers, strings, lists, dictionaries, or even other functions. The return statement can also be used to end a function without returning a value, in which case the function returns None by default."
   ]
  },
  {
   "cell_type": "markdown",
   "id": "d8a3b81a-33dc-43f5-8a7b-06b972e1a7a5",
   "metadata": {},
   "source": [
    "### Purpose of return:\n",
    "#### Send a value back to the caller: The primary purpose of the return statement is to pass the result of the function back to the code that called it.\n",
    "#### Terminate the function execution: Once a return statement is executed, the function terminates, and no further code within the function is executed."
   ]
  },
  {
   "cell_type": "markdown",
   "id": "062bbc3b-6cf4-4773-8cf3-97bce6b642c6",
   "metadata": {},
   "source": [
    "#### Example:\n",
    "#### Here’s a simple function that calculates the square of a number and returns the result:"
   ]
  },
  {
   "cell_type": "code",
   "execution_count": 6,
   "id": "ffdb4a15-def0-41f0-8a9f-c91b23d3fc74",
   "metadata": {},
   "outputs": [
    {
     "name": "stdout",
     "output_type": "stream",
     "text": [
      "16\n"
     ]
    }
   ],
   "source": [
    "def square(number):\n",
    "    result = number * number\n",
    "    return result\n",
    "\n",
    "# Calling the function and printing the result\n",
    "print(square(4))  # Output: 16"
   ]
  },
  {
   "cell_type": "markdown",
   "id": "28f046dd-f6ff-46d3-962d-392e0fd8cb58",
   "metadata": {},
   "source": [
    "#### In this example:\n",
    "\n",
    "#### * The function square takes one parameter number.\n",
    "#### * It calculates the square of the number and stores it in the variable result.\n",
    "#### * The return statement sends the value of result back to the caller.\n",
    "#### * When we call square(4), it returns 16, which is then printed."
   ]
  },
  {
   "cell_type": "markdown",
   "id": "4e4df231-acdd-4d8e-ae95-cb74cd6ddd29",
   "metadata": {},
   "source": [
    "#### The return statement ensures that once a match is found and the value is returned, the function exits immediately."
   ]
  },
  {
   "cell_type": "code",
   "execution_count": null,
   "id": "d18556c2-2525-45b6-88d8-307a2e30218d",
   "metadata": {},
   "outputs": [],
   "source": []
  },
  {
   "cell_type": "markdown",
   "id": "75be940d-596b-4226-b869-927523def226",
   "metadata": {},
   "source": [
    "## 5. What are iterators in Python and how do they differ from iterables?"
   ]
  },
  {
   "cell_type": "markdown",
   "id": "fe8b6f69-3536-4f5e-af09-7e0151fa37e4",
   "metadata": {},
   "source": [
    "#### Iterators and iterables are fundamental concepts in Python that facilitate the process of iterating over data structures. Understanding their differences is crucial for effective programming in Python."
   ]
  },
  {
   "cell_type": "markdown",
   "id": "451c00be-c616-4228-9ea1-860c5eed9cf8",
   "metadata": {},
   "source": [
    "### Iterable\n",
    "#### An iterable is any Python object that can return its elements one at a time. This includes data structures such as lists, tuples, strings, and dictionaries. An iterable implements the __iter__() method, which returns an iterator object."
   ]
  },
  {
   "cell_type": "code",
   "execution_count": null,
   "id": "71f767c2-1b3e-4542-9c91-b7681a5fb295",
   "metadata": {},
   "outputs": [],
   "source": [
    "# Example of an iterable (list)\n",
    "cities = [\"Berlin\", \"Vienna\", \"Zurich\"]\n",
    "for city in cities:\n",
    "    print(city)"
   ]
  },
  {
   "cell_type": "markdown",
   "id": "084b7b86-381c-41f6-902e-394a4b2419be",
   "metadata": {},
   "source": [
    "#### In this example, cities is an iterable that can be looped over with a for loop."
   ]
  },
  {
   "cell_type": "markdown",
   "id": "02780979-57f8-4e2f-99c6-4166a4d86b8f",
   "metadata": {},
   "source": [
    "### Iterator\n",
    "#### An iterator is an object that represents a stream of data; it returns one element at a time from an iterable. An iterator implements two methods: __iter__() which returns the iterator itself, and __next__() which returns the next value from the iterable. When there are no more items to return, __next__() raises a StopIteration exception."
   ]
  },
  {
   "cell_type": "code",
   "execution_count": null,
   "id": "ed644b18-b6d7-4e32-a1c0-4f5d207be136",
   "metadata": {},
   "outputs": [],
   "source": [
    "# Creating an iterator from a list\n",
    "cities = [\"Berlin\", \"Vienna\", \"Zurich\"]\n",
    "iterator = iter(cities)\n",
    "\n",
    "print(next(iterator))  # Output: Berlin\n",
    "print(next(iterator))  # Output: Vienna\n",
    "print(next(iterator))  # Output: Zurich\n",
    "# The next call will raise StopIteration"
   ]
  },
  {
   "cell_type": "markdown",
   "id": "83aa7e92-6461-474b-aa5b-8583d8279a4a",
   "metadata": {},
   "source": [
    "#### In this example, iterator is an iterator created from the cities list. The next() function retrieves the next item from the iterator."
   ]
  },
  {
   "cell_type": "markdown",
   "id": "b2f73d8a-2c2f-4e68-8adf-71aea6a8decf",
   "metadata": {},
   "source": [
    "### Key Differences\n",
    "#### Definition: An iterable is an object that can be iterated over, while an iterator is the object that does the actual iteration.\n",
    "#### Methods: Iterables have the __iter__() method that returns an iterator. Iterators have both __iter__() and __next__() methods.\n",
    "#### Usage: You can use for loops directly with iterables, but you must call next() on an iterator to retrieve items one at a time.\n",
    "#### Relationship: Every iterator is an iterable (because it implements __iter__()), but not every iterable is an iterator.\n",
    "#### This distinction allows Python to handle data streams efficiently, enabling both simple and complex iterations in various programming scenarios."
   ]
  },
  {
   "cell_type": "markdown",
   "id": "c26443c9-2054-4056-a5ed-5aa07a86b65c",
   "metadata": {},
   "source": [
    "####                                     This distinction allows Python to handle data streams efficiently, enabling both simple and complex iterations in various programming scenarios."
   ]
  },
  {
   "cell_type": "code",
   "execution_count": null,
   "id": "74fed189-03d6-465f-8e66-0ae97900ab18",
   "metadata": {},
   "outputs": [],
   "source": []
  },
  {
   "cell_type": "markdown",
   "id": "cfaedb5c-1abb-4b0a-992e-5003a4f085e4",
   "metadata": {},
   "source": [
    "## Q.6. Explain the concept of generators in Python and how they are defined."
   ]
  },
  {
   "cell_type": "markdown",
   "id": "0e2f3e99-807d-41d3-ac44-72dda6268635",
   "metadata": {},
   "source": [
    "#### Ans.Generators are a powerful feature in Python that allow us to create iterators in a very efficient way. They enable us to iterate over a sequence of values without the need to store the entire sequence in memory at once. This is particularly useful when dealing with large datasets or streams of data."
   ]
  },
  {
   "cell_type": "markdown",
   "id": "b227b20a-1295-4c59-816a-92c66d75db83",
   "metadata": {},
   "source": [
    "#### A generator is a special type of iterator that is defined using a function. Instead of returning a single value, a generator uses the yield keyword to produce a series of values over time. Each time the generator's __next__() method is called, the function runs until it hits the yield statement, which produces a value and pauses the function's state. The next time __next__() is called, the function resumes from where it left off."
   ]
  },
  {
   "cell_type": "markdown",
   "id": "cc300095-1c87-4998-8f74-a728d95dcab5",
   "metadata": {},
   "source": [
    "### Advantages of Generators\n",
    "#### (a).Memory Efficiency: Generators do not store their contents in memory. They generate values on-the-fly, which is beneficial for large datasets.\n",
    "#### (b).Lazy Evaluation: Values are produced only when requested, which can lead to performance improvements.\n",
    "#### (c).Simpler Code: Generators can simplify code that would otherwise require more complex iterator classes."
   ]
  },
  {
   "cell_type": "markdown",
   "id": "f6d806f5-7adf-4933-9c7b-960b4f617884",
   "metadata": {},
   "source": [
    "#### To define a generator in Python, we can use a function that contains one or more yield statements."
   ]
  },
  {
   "cell_type": "code",
   "execution_count": 1,
   "id": "6576b03b-8f8c-465c-b3ed-c7ccfa0c8ad8",
   "metadata": {},
   "outputs": [],
   "source": [
    "def count_up_to(max):\n",
    "    count = 1\n",
    "    while count <= max:\n",
    "        yield count\n",
    "        count += 1"
   ]
  },
  {
   "cell_type": "markdown",
   "id": "499e9424-2ed5-4637-815f-fea5e87f0905",
   "metadata": {},
   "source": [
    "#### Here’s how you can use the generator defined above:"
   ]
  },
  {
   "cell_type": "code",
   "execution_count": 2,
   "id": "98a18315-bd2c-41d6-9bdc-a1bf74f9c7cb",
   "metadata": {},
   "outputs": [
    {
     "name": "stdout",
     "output_type": "stream",
     "text": [
      "1\n",
      "2\n",
      "3\n",
      "4\n",
      "5\n"
     ]
    }
   ],
   "source": [
    "# Create a generator\n",
    "counter = count_up_to(5)\n",
    "\n",
    "# Iterate through the generator\n",
    "for number in counter:\n",
    "    print(number)"
   ]
  },
  {
   "cell_type": "markdown",
   "id": "3128e696-2a6a-4473-af7a-92fec9b124e0",
   "metadata": {},
   "source": [
    "#### Generators are a convenient and efficient way to handle large datasets or streams of data in Python. By using the yield keyword, we can create iterable sequences without the overhead of storing all values in memory at once. This makes them an essential tool in a data scientist's toolkit, especially when working with large datasets.\n"
   ]
  },
  {
   "cell_type": "code",
   "execution_count": null,
   "id": "41b01726-3476-478b-ba76-0e68297fb8ff",
   "metadata": {},
   "outputs": [],
   "source": []
  },
  {
   "cell_type": "markdown",
   "id": "6a34d56e-ab20-4072-a49d-1738b91f687f",
   "metadata": {},
   "source": [
    "## Q.7. What are the advantages of using generators over regular functions?"
   ]
  },
  {
   "cell_type": "markdown",
   "id": "23649267-2f23-45d5-92a8-6c0238ee5227",
   "metadata": {},
   "source": [
    "#### Ans.Generators offer several advantages over regular functions in Python, particularly in terms of memory efficiency, performance, and ease of use. Here are the key advantages:"
   ]
  },
  {
   "cell_type": "markdown",
   "id": "1dfade33-4547-4d19-b69f-5994625a3e3b",
   "metadata": {},
   "source": [
    "## Advantages of Generators\n",
    "#### (a).Memory Efficiency: Generators yield items one at a time and do not store the entire sequence in memory. This is particularly useful when working with large datasets or infinite sequences, as it significantly reduces memory consumption compared to regular functions that return lists or other collections.\n",
    "#### (b).Lazy Evaluation: Generators compute values on-the-fly, meaning values are generated only when requested. This can lead to performance improvements, especially when dealing with large datasets or expensive computations, as not all values need to be computed upfront.\n",
    "#### (c).State Retention: Unlike regular functions, which terminate after returning a value, generators maintain their state between calls. This allows them to resume execution from where they left off, making them ideal for iterative processes."
   ]
  },
  {
   "cell_type": "markdown",
   "id": "64700045-2736-4f31-8aca-1fca2eb07bd2",
   "metadata": {},
   "source": [
    "#### (d).Infinite Sequences: Generators can easily create infinite sequences without running out of memory. Regular functions would require predefining the size of a list, which is not necessary with generators.\n",
    "#### (e).Simplified Code: Generators can simplify code that would otherwise require more complex iterator classes, making it easier to read and maintain."
   ]
  },
  {
   "cell_type": "markdown",
   "id": "6cffad06-e62c-45d6-96da-6080f478ee4a",
   "metadata": {},
   "source": [
    "### Example of a Generator vs. a Regular Function\n",
    "#### Here’s an example comparing a generator that produces Fibonacci numbers with a regular function that returns a list of Fibonacci numbers.\n",
    "### Regular Function"
   ]
  },
  {
   "cell_type": "code",
   "execution_count": null,
   "id": "ff54a7b7-50bd-4684-aab9-c3bcb53b4154",
   "metadata": {},
   "outputs": [],
   "source": [
    "def fibonacci_list(n):\n",
    "    fib = []\n",
    "    a, b = 0, 1\n",
    "    for i in range(n):\n",
    "        fib.append(a)\n",
    "        a, b = b, a + b\n",
    "    return fib\n",
    "\n",
    "# Usage\n",
    "fib_numbers = fibonacci_list(10)\n",
    "print(fib_numbers)"
   ]
  },
  {
   "cell_type": "markdown",
   "id": "2393b17c-9d42-4b80-a340-12ca451a21f5",
   "metadata": {},
   "source": [
    "### Generator Function"
   ]
  },
  {
   "cell_type": "code",
   "execution_count": null,
   "id": "479da4ec-214a-4c75-9ead-394ae98fe8ac",
   "metadata": {},
   "outputs": [],
   "source": [
    "def fibonacci_generator(n):\n",
    "    a, b = 0, 1\n",
    "    for _ in range(n):\n",
    "        yield a\n",
    "        a, b = b, a + b\n",
    "\n",
    "# Usage\n",
    "for number in fibonacci_generator(10):\n",
    "    print(number)"
   ]
  },
  {
   "cell_type": "markdown",
   "id": "c70813ef-31b5-41be-8074-29969063fcd4",
   "metadata": {},
   "source": [
    "### Comparison\n",
    "#### * Memory Usage: The fibonacci_list function creates a list of all Fibonacci numbers up to n, consuming memory proportional to n. In contrast, fibonacci_generator yields one number at a time, using minimal memory.\n",
    "#### * Execution: The generator allows for lazy evaluation, meaning you can start processing Fibonacci numbers without waiting for the entire sequence to be computed. This is especially useful for large values of n.\n",
    "####   In summary, generators provide a more efficient and elegant way to handle sequences of data, particularly when dealing with large or infinite datasets, making them a valuable tool in Python programming"
   ]
  },
  {
   "cell_type": "code",
   "execution_count": null,
   "id": "9fb85e86-f19c-47a7-8464-428f3fb422a8",
   "metadata": {},
   "outputs": [],
   "source": []
  },
  {
   "cell_type": "markdown",
   "id": "cbb93c2c-e751-4f06-9752-ec91881ab50e",
   "metadata": {},
   "source": [
    "## Q.8. What is a lambda function in Python and when is it typically used?"
   ]
  },
  {
   "cell_type": "markdown",
   "id": "de53a6d1-68ed-4be4-95d3-525fd619e6bc",
   "metadata": {},
   "source": [
    "#### Ans.A lambda function is a small, anonymous function in Python. It can take any number of arguments, but it can only contain one expression. It's defined using the lambda keyword."
   ]
  },
  {
   "cell_type": "markdown",
   "id": "08f59e1b-e15a-42fa-a435-4e2a4288125f",
   "metadata": {},
   "source": [
    "### When to Use Lambda Functions:\n",
    "\n",
    "#### Lambda functions are typically used for short, simple functions that are needed only once. They are often used with higher-order functions like map, filter, and reduce."
   ]
  },
  {
   "cell_type": "markdown",
   "id": "06949119-bc11-41e1-b03e-7bf1254fbe94",
   "metadata": {},
   "source": [
    "#### Let's say we have a list of numbers and we want to square each number. We can use a lambda function with the map function to achieve this:"
   ]
  },
  {
   "cell_type": "code",
   "execution_count": 3,
   "id": "8cd5131d-b9d9-427a-a1ac-10ebe638183e",
   "metadata": {},
   "outputs": [
    {
     "name": "stdout",
     "output_type": "stream",
     "text": [
      "[1, 4, 9, 16, 25]\n"
     ]
    }
   ],
   "source": [
    "numbers = [1, 2, 3, 4, 5]\n",
    "\n",
    "squared_numbers = list(map(lambda x: x*x, numbers))\n",
    "print(squared_numbers)"
   ]
  },
  {
   "cell_type": "markdown",
   "id": "6e53522c-19f3-4cd5-88e7-9640cc359e76",
   "metadata": {},
   "source": [
    "#### Sorting a list of tuples based on the second element:"
   ]
  },
  {
   "cell_type": "code",
   "execution_count": 4,
   "id": "0614a0e4-2a35-4209-8b8a-4d4325d00006",
   "metadata": {},
   "outputs": [
    {
     "name": "stdout",
     "output_type": "stream",
     "text": [
      "[(1, 'apple'), (3, 'banana'), (2, 'orange')]\n"
     ]
    }
   ],
   "source": [
    "data = [(1, 'apple'), (3, 'banana'), (2, 'orange')]\n",
    "sorted_data = sorted(data, key=lambda x: x[1])\n",
    "print(sorted_data)"
   ]
  },
  {
   "cell_type": "markdown",
   "id": "02b311a7-2c08-40c0-8fc3-4949f84976d2",
   "metadata": {},
   "source": [
    "#### By understanding lambda functions, we can write more concise and efficient Python code, especially when working with data manipulation tasks."
   ]
  },
  {
   "cell_type": "code",
   "execution_count": null,
   "id": "864d72ce-833a-4ad7-8e87-6fdc73844f39",
   "metadata": {},
   "outputs": [],
   "source": []
  },
  {
   "cell_type": "markdown",
   "id": "08b3233b-d8f4-424f-b432-b796caf9ca92",
   "metadata": {},
   "source": [
    "## 9. Explain the purpose and usage of the `map()` function in Python."
   ]
  },
  {
   "cell_type": "markdown",
   "id": "c83d72c0-6bfb-4c2a-ace2-a937c359422e",
   "metadata": {},
   "source": [
    "#### Ans.The map() function in Python applies a given function to each item of an iterable (like a list, tuple, or string) and returns an iterator of the results. It's a powerful tool for transforming elements within an iterable without explicitly using a for loop."
   ]
  },
  {
   "cell_type": "markdown",
   "id": "f2021812-7a8c-4a3c-9e25-1b4e7c5eaf19",
   "metadata": {},
   "source": [
    "### Syntax:"
   ]
  },
  {
   "cell_type": "code",
   "execution_count": null,
   "id": "f34730d7-dd18-408b-bb8b-a0cce44e6e1d",
   "metadata": {},
   "outputs": [],
   "source": [
    "map(function, iterable, iterable2, ...)"
   ]
  },
  {
   "cell_type": "markdown",
   "id": "c91795b6-a21f-40ad-92b0-0bfd26f72171",
   "metadata": {},
   "source": [
    "#### function: The function to apply to each item.\n",
    "#### iterable: The iterable whose elements are to be processed.\n",
    "#### iterable2, ...: Additional iterables (optional), if the function takes multiple arguments."
   ]
  },
  {
   "cell_type": "markdown",
   "id": "b6e3bfbf-5e83-4460-afde-ab8001eb8343",
   "metadata": {},
   "source": [
    "#### Let's say we have a list of numbers and we want to square each number. We can use the map() function with a lambda function to achieve this:"
   ]
  },
  {
   "cell_type": "code",
   "execution_count": 6,
   "id": "841563ea-1e02-4c8b-9317-a05c1c619a59",
   "metadata": {},
   "outputs": [
    {
     "name": "stdout",
     "output_type": "stream",
     "text": [
      "[1, 36, 9, 16, 25]\n"
     ]
    }
   ],
   "source": [
    "numbers = [1, 6, 3, 4, 5]\n",
    "\n",
    "squared_numbers = list(map(lambda x: x*x, numbers))\n",
    "print(squared_numbers)"
   ]
  },
  {
   "cell_type": "markdown",
   "id": "80e34a25-6556-4437-adf8-5d07a3e7ed6f",
   "metadata": {},
   "source": [
    "#### * map() returns an iterator, so you often need to convert it to a list or other iterable to use it.\n",
    "#### * It's efficient for applying a function to every element in an iterable.\n",
    "#### * It can be used with any function, including user-defined functions.\n",
    "#### * When dealing with multiple iterables, the function should accept multiple arguments."
   ]
  },
  {
   "cell_type": "markdown",
   "id": "949a156f-8db0-404d-83cd-19bfca98367b",
   "metadata": {},
   "source": [
    "#### By understanding the map() function, we can write more concise and efficient Python code for various data processing tasks."
   ]
  },
  {
   "cell_type": "code",
   "execution_count": null,
   "id": "ae86b0ef-a988-4e0f-8bf2-ea1840e1d6fb",
   "metadata": {},
   "outputs": [],
   "source": []
  },
  {
   "cell_type": "markdown",
   "id": "10695470-472a-4632-9b6e-aa1d8570546e",
   "metadata": {},
   "source": [
    "## Q.10. What is the difference between `map()`, `reduce()`, and `filter()` functions in Python?"
   ]
  },
  {
   "cell_type": "markdown",
   "id": "775a856a-fa63-4edd-b328-95324f529526",
   "metadata": {},
   "source": [
    "#### Ans.map(), filter(), and reduce() in Python\n",
    "#### These functions are commonly used in functional programming paradigms to manipulate iterables."
   ]
  },
  {
   "cell_type": "markdown",
   "id": "7dafd99e-460b-42bf-80f4-b5535d779f53",
   "metadata": {},
   "source": [
    "### map()\n",
    "#### Purpose: Applies a given function to each item of an iterable and returns an iterator of the results.\n",
    "#### Returns: An iterator.\n",
    "#### Example:"
   ]
  },
  {
   "cell_type": "code",
   "execution_count": 7,
   "id": "43e1bb02-5751-4fb0-9cf2-af4e20299103",
   "metadata": {},
   "outputs": [
    {
     "name": "stdout",
     "output_type": "stream",
     "text": [
      "[1, 4, 9, 16, 25]\n"
     ]
    }
   ],
   "source": [
    "numbers = [1, 2, 3, 4, 5]\n",
    "squared = map(lambda x: x**2, numbers)\n",
    "print(list(squared))  # Output: [1, 4, 9, 16, 25]"
   ]
  },
  {
   "cell_type": "markdown",
   "id": "4a097ab8-8f34-4478-be60-a2948172f17d",
   "metadata": {},
   "source": [
    "### filter()\n",
    "#### Purpose: Creates a new iterable with elements from the original iterable that satisfy a given condition.\n",
    "#### Returns: An iterator.\n",
    "#### Example:"
   ]
  },
  {
   "cell_type": "code",
   "execution_count": 8,
   "id": "45976865-890a-4448-82ce-4e30029e135c",
   "metadata": {},
   "outputs": [
    {
     "name": "stdout",
     "output_type": "stream",
     "text": [
      "[2, 4]\n"
     ]
    }
   ],
   "source": [
    "numbers = [1, 2, 3, 4, 5]\n",
    "even_numbers = filter(lambda x: x % 2 == 0, numbers)\n",
    "print(list(even_numbers))  # Output: [2, 4]"
   ]
  },
  {
   "cell_type": "markdown",
   "id": "8f3f9ab2-a940-4563-a172-18e38321c132",
   "metadata": {},
   "source": [
    "## reduce()\n",
    "#### Purpose: Applies a function to the elements of an iterable, reducing them to a single value.\n",
    "#### Returns: A single value.\n",
    "#### Note: In Python 3, reduce() is not built-in and must be imported from the functools module.\n",
    "#### Example:"
   ]
  },
  {
   "cell_type": "code",
   "execution_count": 10,
   "id": "4a1e172f-2ed5-4c6f-9ff3-ae2a1fbb9b00",
   "metadata": {},
   "outputs": [
    {
     "name": "stdout",
     "output_type": "stream",
     "text": [
      "120\n"
     ]
    }
   ],
   "source": [
    "from functools import reduce\n",
    "numbers = [1, 2, 3, 4, 5]\n",
    "product = reduce(lambda x, y: x*y, numbers)\n",
    "print(product)  # Output:   "
   ]
  },
  {
   "cell_type": "markdown",
   "id": "b0bc0488-c062-4c1d-b2bf-a4925a8c6fee",
   "metadata": {},
   "source": [
    "### Key Differences:\n",
    "\n",
    "#### map() applies a function to all elements.\n",
    "#### filter() selects elements based on a condition.\n",
    "#### reduce() combines elements into a single value.\n",
    "#### By understanding these functions, we can write more concise and expressive code when dealing with iterable data."
   ]
  },
  {
   "cell_type": "code",
   "execution_count": null,
   "id": "1e9c06f0-79f4-4fbe-92d9-d465998594d8",
   "metadata": {},
   "outputs": [],
   "source": []
  },
  {
   "cell_type": "markdown",
   "id": "968b7d67-4245-4cbb-97c5-b909f50fc296",
   "metadata": {},
   "source": [
    "## Q.11. Using pen & Paper write the internal mechanism for sum operation using  reduce function on this given\n",
    "## list:[47,11,42,13]; "
   ]
  },
  {
   "cell_type": "markdown",
   "id": "3e7288d6-630d-4f76-81b1-99fcf3dd7598",
   "metadata": {},
   "source": [
    "### Ans.We'll use a lambda function as the reducing function to add two numbers."
   ]
  },
  {
   "cell_type": "code",
   "execution_count": null,
   "id": "5ea8a025-487b-4dbb-b721-9b246b10701e",
   "metadata": {},
   "outputs": [],
   "source": [
    "from functools import reduce\n",
    "\n",
    "numbers = [47, 11, 42, 13]\n",
    "result = reduce(lambda x, y: x + y, numbers)"
   ]
  },
  {
   "cell_type": "code",
   "execution_count": 1,
   "id": "4c0c4541-c1a5-4088-b2f1-9c7a28cf7d29",
   "metadata": {},
   "outputs": [
    {
     "data": {
      "image/jpeg": "[encoded data removed]",
      "text/plain": [
       "<IPython.core.display.Image object>"
      ]
     },
     "execution_count": 1,
     "metadata": {},
     "output_type": "execute_result"
    }
   ],
   "source": [
    "from IPython import display\n",
    "display.Image(\"reduce_function.jpg\")"
   ]
  },
  {
   "cell_type": "markdown",
   "id": "3d8aac7b-95d8-476d-b136-c5c2f1dc83e6",
   "metadata": {},
   "source": [
    "## Visualization:"
   ]
  },
  {
   "cell_type": "code",
   "execution_count": null,
   "id": "bd16dae5-5da9-41cf-bf00-f73fc18051c1",
   "metadata": {},
   "outputs": [],
   "source": [
    "reduce(lambda x, y: x + y, [47, 11, 42, 13])\n",
    "  = reduce(lambda x, y: x + y, [58, 42, 13])  # 47 + 11 = 58\n",
    "  = reduce(lambda x, y: x + y, [100, 13])    # 58 + 42 = 100\n",
    "  = 113                                    # 100 + 13 = 113"
   ]
  },
  {
   "cell_type": "markdown",
   "id": "edc8ebc5-a347-4280-bce6-d24982f683af",
   "metadata": {},
   "source": [
    "#### As we can see, reduce() iteratively combines the elements of the list using the given function, resulting in the final sum of 113."
   ]
  },
  {
   "cell_type": "code",
   "execution_count": null,
   "id": "17dbb62a-0340-4580-9780-f7760bdfcf8f",
   "metadata": {},
   "outputs": [],
   "source": []
  },
  {
   "cell_type": "code",
   "execution_count": null,
   "id": "1ad7514d-9ce1-4b82-b0e2-ee3d74bce5b4",
   "metadata": {},
   "outputs": [],
   "source": []
  }
 ],
 "metadata": {
  "kernelspec": {
   "display_name": "Python 3 (ipykernel)",
   "language": "python",
   "name": "python3"
  },
  "language_info": {
   "codemirror_mode": {
    "name": "ipython",
    "version": 3
   },
   "file_extension": ".py",
   "mimetype": "text/x-python",
   "name": "python",
   "nbconvert_exporter": "python",
   "pygments_lexer": "ipython3",
   "version": "3.10.8"
  }
 },
 "nbformat": 4,
 "nbformat_minor": 5
}
